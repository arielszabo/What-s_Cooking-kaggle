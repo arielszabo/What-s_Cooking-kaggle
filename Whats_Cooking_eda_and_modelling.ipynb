{
 "cells": [
  {
   "cell_type": "code",
   "execution_count": 1,
   "metadata": {},
   "outputs": [],
   "source": [
    "import pandas as pd\n",
    "import numpy as np\n",
    "import matplotlib.pyplot as plt\n",
    "import seaborn as sns\n",
    "import os\n",
    "import re\n",
    "%matplotlib inline\n",
    "sns.set()\n",
    "np.random.seed(123)"
   ]
  },
  {
   "cell_type": "code",
   "execution_count": 2,
   "metadata": {},
   "outputs": [],
   "source": [
    "def load_n_prep(name):\n",
    "    df = pd.read_json(os.path.join('{}.json'.format(name)))\n",
    "    df.set_index('id', inplace=True)\n",
    "    df['ingredients_count'] = df['ingredients'].apply(lambda x: len(x))\n",
    "    df['ingredients_word_count'] = df['ingredients'].apply(lambda ingredients: [len(i.split()) for i in ingredients])\n",
    "    df['ingredients'] = df['ingredients'].apply(lambda ingredients: ' '.join(ingredients)) #ingredients of two words can get lost\n",
    "    return df"
   ]
  },
  {
   "cell_type": "code",
   "execution_count": 3,
   "metadata": {},
   "outputs": [
    {
     "data": {
      "text/html": [
       "<div>\n",
       "<style scoped>\n",
       "    .dataframe tbody tr th:only-of-type {\n",
       "        vertical-align: middle;\n",
       "    }\n",
       "\n",
       "    .dataframe tbody tr th {\n",
       "        vertical-align: top;\n",
       "    }\n",
       "\n",
       "    .dataframe thead th {\n",
       "        text-align: right;\n",
       "    }\n",
       "</style>\n",
       "<table border=\"1\" class=\"dataframe\">\n",
       "  <thead>\n",
       "    <tr style=\"text-align: right;\">\n",
       "      <th></th>\n",
       "      <th>cuisine</th>\n",
       "      <th>ingredients</th>\n",
       "      <th>ingredients_count</th>\n",
       "      <th>ingredients_word_count</th>\n",
       "    </tr>\n",
       "    <tr>\n",
       "      <th>id</th>\n",
       "      <th></th>\n",
       "      <th></th>\n",
       "      <th></th>\n",
       "      <th></th>\n",
       "    </tr>\n",
       "  </thead>\n",
       "  <tbody>\n",
       "    <tr>\n",
       "      <th>10259</th>\n",
       "      <td>greek</td>\n",
       "      <td>romaine lettuce black olives grape tomatoes ga...</td>\n",
       "      <td>9</td>\n",
       "      <td>[2, 2, 2, 1, 1, 2, 1, 2, 3]</td>\n",
       "    </tr>\n",
       "    <tr>\n",
       "      <th>25693</th>\n",
       "      <td>southern_us</td>\n",
       "      <td>plain flour ground pepper salt tomatoes ground...</td>\n",
       "      <td>11</td>\n",
       "      <td>[2, 2, 1, 1, 3, 1, 1, 2, 3, 1, 2]</td>\n",
       "    </tr>\n",
       "    <tr>\n",
       "      <th>20130</th>\n",
       "      <td>filipino</td>\n",
       "      <td>eggs pepper salt mayonaise cooking oil green c...</td>\n",
       "      <td>12</td>\n",
       "      <td>[1, 1, 1, 1, 2, 2, 3, 2, 2, 2, 1, 2]</td>\n",
       "    </tr>\n",
       "    <tr>\n",
       "      <th>22213</th>\n",
       "      <td>indian</td>\n",
       "      <td>water vegetable oil wheat salt</td>\n",
       "      <td>4</td>\n",
       "      <td>[1, 2, 1, 1]</td>\n",
       "    </tr>\n",
       "    <tr>\n",
       "      <th>13162</th>\n",
       "      <td>indian</td>\n",
       "      <td>black pepper shallots cornflour cayenne pepper...</td>\n",
       "      <td>20</td>\n",
       "      <td>[2, 1, 1, 2, 1, 2, 1, 1, 1, 2, 1, 2, 1, 1, 2, ...</td>\n",
       "    </tr>\n",
       "  </tbody>\n",
       "</table>\n",
       "</div>"
      ],
      "text/plain": [
       "           cuisine                                        ingredients  \\\n",
       "id                                                                      \n",
       "10259        greek  romaine lettuce black olives grape tomatoes ga...   \n",
       "25693  southern_us  plain flour ground pepper salt tomatoes ground...   \n",
       "20130     filipino  eggs pepper salt mayonaise cooking oil green c...   \n",
       "22213       indian                     water vegetable oil wheat salt   \n",
       "13162       indian  black pepper shallots cornflour cayenne pepper...   \n",
       "\n",
       "       ingredients_count                             ingredients_word_count  \n",
       "id                                                                           \n",
       "10259                  9                        [2, 2, 2, 1, 1, 2, 1, 2, 3]  \n",
       "25693                 11                  [2, 2, 1, 1, 3, 1, 1, 2, 3, 1, 2]  \n",
       "20130                 12               [1, 1, 1, 1, 2, 2, 3, 2, 2, 2, 1, 2]  \n",
       "22213                  4                                       [1, 2, 1, 1]  \n",
       "13162                 20  [2, 1, 1, 2, 1, 2, 1, 1, 1, 2, 1, 2, 1, 1, 2, ...  "
      ]
     },
     "execution_count": 3,
     "metadata": {},
     "output_type": "execute_result"
    }
   ],
   "source": [
    "train = load_n_prep('train')\n",
    "train.head()"
   ]
  },
  {
   "cell_type": "code",
   "execution_count": 4,
   "metadata": {},
   "outputs": [
    {
     "name": "stdout",
     "output_type": "stream",
     "text": [
      "<class 'pandas.core.frame.DataFrame'>\n",
      "Int64Index: 39774 entries, 10259 to 2362\n",
      "Data columns (total 4 columns):\n",
      "cuisine                   39774 non-null object\n",
      "ingredients               39774 non-null object\n",
      "ingredients_count         39774 non-null int64\n",
      "ingredients_word_count    39774 non-null object\n",
      "dtypes: int64(1), object(3)\n",
      "memory usage: 1.5+ MB\n"
     ]
    }
   ],
   "source": [
    "train.info()"
   ]
  },
  {
   "cell_type": "code",
   "execution_count": 5,
   "metadata": {},
   "outputs": [
    {
     "data": {
      "image/png": "[encoded data removed]",
      "text/plain": [
       "<Figure size 432x288 with 1 Axes>"
      ]
     },
     "metadata": {},
     "output_type": "display_data"
    }
   ],
   "source": [
    "sns.countplot(train.cuisine);\n",
    "plt.xticks(rotation=90);"
   ]
  },
  {
   "cell_type": "markdown",
   "metadata": {},
   "source": [
    "### The labels are very unballanced !"
   ]
  },
  {
   "cell_type": "code",
   "execution_count": 6,
   "metadata": {},
   "outputs": [
    {
     "data": {
      "image/png": "[encoded data removed]",
      "text/plain": [
       "<Figure size 432x288 with 1 Axes>"
      ]
     },
     "metadata": {},
     "output_type": "display_data"
    }
   ],
   "source": [
    "sns.stripplot(x=\"ingredients_count\", y=\"cuisine\", data=train, jitter=False);"
   ]
  },
  {
   "cell_type": "code",
   "execution_count": 8,
   "metadata": {},
   "outputs": [
    {
     "data": {
      "text/plain": [
       "<matplotlib.axes._subplots.AxesSubplot at 0x7fcd9e577fd0>"
      ]
     },
     "execution_count": 8,
     "metadata": {},
     "output_type": "execute_result"
    },
    {
     "data": {
      "image/png": "[encoded data removed]",
      "text/plain": [
       "<Figure size 432x288 with 1 Axes>"
      ]
     },
     "metadata": {},
     "output_type": "display_data"
    }
   ],
   "source": [
    "train.ingredients_count.plot(kind='box')"
   ]
  },
  {
   "cell_type": "code",
   "execution_count": 12,
   "metadata": {},
   "outputs": [
    {
     "data": {
      "text/html": [
       "<div>\n",
       "<style scoped>\n",
       "    .dataframe tbody tr th:only-of-type {\n",
       "        vertical-align: middle;\n",
       "    }\n",
       "\n",
       "    .dataframe tbody tr th {\n",
       "        vertical-align: top;\n",
       "    }\n",
       "\n",
       "    .dataframe thead th {\n",
       "        text-align: right;\n",
       "    }\n",
       "</style>\n",
       "<table border=\"1\" class=\"dataframe\">\n",
       "  <thead>\n",
       "    <tr style=\"text-align: right;\">\n",
       "      <th></th>\n",
       "      <th>cuisine</th>\n",
       "      <th>ingredients</th>\n",
       "      <th>ingredients_count</th>\n",
       "      <th>ingredients_word_count</th>\n",
       "    </tr>\n",
       "    <tr>\n",
       "      <th>id</th>\n",
       "      <th></th>\n",
       "      <th></th>\n",
       "      <th></th>\n",
       "      <th></th>\n",
       "    </tr>\n",
       "  </thead>\n",
       "  <tbody>\n",
       "    <tr>\n",
       "      <th>4734</th>\n",
       "      <td>japanese</td>\n",
       "      <td>sushi rice</td>\n",
       "      <td>1</td>\n",
       "      <td>[2]</td>\n",
       "    </tr>\n",
       "    <tr>\n",
       "      <th>7833</th>\n",
       "      <td>vietnamese</td>\n",
       "      <td>dried rice noodles</td>\n",
       "      <td>1</td>\n",
       "      <td>[3]</td>\n",
       "    </tr>\n",
       "    <tr>\n",
       "      <th>36818</th>\n",
       "      <td>indian</td>\n",
       "      <td>plain low-fat yogurt</td>\n",
       "      <td>1</td>\n",
       "      <td>[3]</td>\n",
       "    </tr>\n",
       "    <tr>\n",
       "      <th>19772</th>\n",
       "      <td>indian</td>\n",
       "      <td>unsalted butter</td>\n",
       "      <td>1</td>\n",
       "      <td>[2]</td>\n",
       "    </tr>\n",
       "    <tr>\n",
       "      <th>16116</th>\n",
       "      <td>japanese</td>\n",
       "      <td>udon</td>\n",
       "      <td>1</td>\n",
       "      <td>[1]</td>\n",
       "    </tr>\n",
       "    <tr>\n",
       "      <th>29738</th>\n",
       "      <td>thai</td>\n",
       "      <td>sticky rice</td>\n",
       "      <td>1</td>\n",
       "      <td>[2]</td>\n",
       "    </tr>\n",
       "    <tr>\n",
       "      <th>41124</th>\n",
       "      <td>indian</td>\n",
       "      <td>butter</td>\n",
       "      <td>1</td>\n",
       "      <td>[1]</td>\n",
       "    </tr>\n",
       "    <tr>\n",
       "      <th>32631</th>\n",
       "      <td>mexican</td>\n",
       "      <td>corn tortillas</td>\n",
       "      <td>1</td>\n",
       "      <td>[2]</td>\n",
       "    </tr>\n",
       "    <tr>\n",
       "      <th>29570</th>\n",
       "      <td>thai</td>\n",
       "      <td>grained</td>\n",
       "      <td>1</td>\n",
       "      <td>[1]</td>\n",
       "    </tr>\n",
       "    <tr>\n",
       "      <th>29849</th>\n",
       "      <td>southern_us</td>\n",
       "      <td>lemonade concentrate</td>\n",
       "      <td>1</td>\n",
       "      <td>[2]</td>\n",
       "    </tr>\n",
       "    <tr>\n",
       "      <th>39186</th>\n",
       "      <td>thai</td>\n",
       "      <td>jasmine rice</td>\n",
       "      <td>1</td>\n",
       "      <td>[2]</td>\n",
       "    </tr>\n",
       "    <tr>\n",
       "      <th>14335</th>\n",
       "      <td>indian</td>\n",
       "      <td>unsalted butter</td>\n",
       "      <td>1</td>\n",
       "      <td>[2]</td>\n",
       "    </tr>\n",
       "    <tr>\n",
       "      <th>39221</th>\n",
       "      <td>italian</td>\n",
       "      <td>cherry tomatoes</td>\n",
       "      <td>1</td>\n",
       "      <td>[2]</td>\n",
       "    </tr>\n",
       "    <tr>\n",
       "      <th>41135</th>\n",
       "      <td>french</td>\n",
       "      <td>butter</td>\n",
       "      <td>1</td>\n",
       "      <td>[1]</td>\n",
       "    </tr>\n",
       "    <tr>\n",
       "      <th>36874</th>\n",
       "      <td>indian</td>\n",
       "      <td>cumin seed</td>\n",
       "      <td>1</td>\n",
       "      <td>[2]</td>\n",
       "    </tr>\n",
       "    <tr>\n",
       "      <th>35028</th>\n",
       "      <td>french</td>\n",
       "      <td>haricots verts</td>\n",
       "      <td>1</td>\n",
       "      <td>[2]</td>\n",
       "    </tr>\n",
       "    <tr>\n",
       "      <th>18593</th>\n",
       "      <td>mexican</td>\n",
       "      <td>vegetable oil</td>\n",
       "      <td>1</td>\n",
       "      <td>[2]</td>\n",
       "    </tr>\n",
       "    <tr>\n",
       "      <th>7460</th>\n",
       "      <td>spanish</td>\n",
       "      <td>spanish chorizo</td>\n",
       "      <td>1</td>\n",
       "      <td>[2]</td>\n",
       "    </tr>\n",
       "    <tr>\n",
       "      <th>32772</th>\n",
       "      <td>spanish</td>\n",
       "      <td>sweetened condensed milk</td>\n",
       "      <td>1</td>\n",
       "      <td>[3]</td>\n",
       "    </tr>\n",
       "    <tr>\n",
       "      <th>12805</th>\n",
       "      <td>japanese</td>\n",
       "      <td>water</td>\n",
       "      <td>1</td>\n",
       "      <td>[1]</td>\n",
       "    </tr>\n",
       "    <tr>\n",
       "      <th>10816</th>\n",
       "      <td>greek</td>\n",
       "      <td>phyllo</td>\n",
       "      <td>1</td>\n",
       "      <td>[1]</td>\n",
       "    </tr>\n",
       "    <tr>\n",
       "      <th>27192</th>\n",
       "      <td>indian</td>\n",
       "      <td>unsalted butter</td>\n",
       "      <td>1</td>\n",
       "      <td>[2]</td>\n",
       "    </tr>\n",
       "  </tbody>\n",
       "</table>\n",
       "</div>"
      ],
      "text/plain": [
       "           cuisine               ingredients  ingredients_count  \\\n",
       "id                                                                \n",
       "4734      japanese                sushi rice                  1   \n",
       "7833    vietnamese        dried rice noodles                  1   \n",
       "36818       indian      plain low-fat yogurt                  1   \n",
       "19772       indian           unsalted butter                  1   \n",
       "16116     japanese                      udon                  1   \n",
       "29738         thai               sticky rice                  1   \n",
       "41124       indian                    butter                  1   \n",
       "32631      mexican            corn tortillas                  1   \n",
       "29570         thai                   grained                  1   \n",
       "29849  southern_us      lemonade concentrate                  1   \n",
       "39186         thai              jasmine rice                  1   \n",
       "14335       indian           unsalted butter                  1   \n",
       "39221      italian           cherry tomatoes                  1   \n",
       "41135       french                    butter                  1   \n",
       "36874       indian                cumin seed                  1   \n",
       "35028       french            haricots verts                  1   \n",
       "18593      mexican             vegetable oil                  1   \n",
       "7460       spanish           spanish chorizo                  1   \n",
       "32772      spanish  sweetened condensed milk                  1   \n",
       "12805     japanese                     water                  1   \n",
       "10816        greek                    phyllo                  1   \n",
       "27192       indian           unsalted butter                  1   \n",
       "\n",
       "      ingredients_word_count  \n",
       "id                            \n",
       "4734                     [2]  \n",
       "7833                     [3]  \n",
       "36818                    [3]  \n",
       "19772                    [2]  \n",
       "16116                    [1]  \n",
       "29738                    [2]  \n",
       "41124                    [1]  \n",
       "32631                    [2]  \n",
       "29570                    [1]  \n",
       "29849                    [2]  \n",
       "39186                    [2]  \n",
       "14335                    [2]  \n",
       "39221                    [2]  \n",
       "41135                    [1]  \n",
       "36874                    [2]  \n",
       "35028                    [2]  \n",
       "18593                    [2]  \n",
       "7460                     [2]  \n",
       "32772                    [3]  \n",
       "12805                    [1]  \n",
       "10816                    [1]  \n",
       "27192                    [2]  "
      ]
     },
     "execution_count": 12,
     "metadata": {},
     "output_type": "execute_result"
    }
   ],
   "source": [
    "train[train.ingredients_count < 2]"
   ]
  },
  {
   "cell_type": "markdown",
   "metadata": {},
   "source": [
    "### ingredients_count > 35/40 look like outliers"
   ]
  },
  {
   "cell_type": "code",
   "execution_count": 7,
   "metadata": {},
   "outputs": [
    {
     "data": {
      "text/html": [
       "<div>\n",
       "<style scoped>\n",
       "    .dataframe tbody tr th:only-of-type {\n",
       "        vertical-align: middle;\n",
       "    }\n",
       "\n",
       "    .dataframe tbody tr th {\n",
       "        vertical-align: top;\n",
       "    }\n",
       "\n",
       "    .dataframe thead th {\n",
       "        text-align: right;\n",
       "    }\n",
       "</style>\n",
       "<table border=\"1\" class=\"dataframe\">\n",
       "  <thead>\n",
       "    <tr style=\"text-align: right;\">\n",
       "      <th></th>\n",
       "      <th>cuisine</th>\n",
       "      <th>ingredients</th>\n",
       "      <th>ingredients_count</th>\n",
       "      <th>ingredients_word_count</th>\n",
       "    </tr>\n",
       "    <tr>\n",
       "      <th>id</th>\n",
       "      <th></th>\n",
       "      <th></th>\n",
       "      <th></th>\n",
       "      <th></th>\n",
       "    </tr>\n",
       "  </thead>\n",
       "  <tbody>\n",
       "    <tr>\n",
       "      <th>49282</th>\n",
       "      <td>mexican</td>\n",
       "      <td>condensed cream of chicken soup pepper refried...</td>\n",
       "      <td>49</td>\n",
       "      <td>[5, 1, 2, 4, 2, 5, 1, 3, 3, 2, 2, 1, 2, 2, 2, ...</td>\n",
       "    </tr>\n",
       "    <tr>\n",
       "      <th>3885</th>\n",
       "      <td>italian</td>\n",
       "      <td>fettucine fresh marjoram minced garlic olive o...</td>\n",
       "      <td>65</td>\n",
       "      <td>[1, 2, 2, 2, 2, 2, 2, 2, 2, 3, 3, 1, 2, 1, 3, ...</td>\n",
       "    </tr>\n",
       "    <tr>\n",
       "      <th>2253</th>\n",
       "      <td>indian</td>\n",
       "      <td>white vinegar sparkling lemonade coconut sugar...</td>\n",
       "      <td>49</td>\n",
       "      <td>[2, 2, 2, 1, 2, 2, 2, 2, 2, 2, 3, 1, 1, 1, 1, ...</td>\n",
       "    </tr>\n",
       "    <tr>\n",
       "      <th>13049</th>\n",
       "      <td>mexican</td>\n",
       "      <td>vanilla ice cream lime garlic powder zucchini ...</td>\n",
       "      <td>52</td>\n",
       "      <td>[3, 1, 2, 1, 1, 2, 3, 1, 2, 2, 3, 2, 1, 1, 2, ...</td>\n",
       "    </tr>\n",
       "    <tr>\n",
       "      <th>13430</th>\n",
       "      <td>brazilian</td>\n",
       "      <td>marshmallows fresh corn cheddar cheese shredde...</td>\n",
       "      <td>59</td>\n",
       "      <td>[1, 2, 2, 2, 1, 1, 2, 2, 2, 2, 2, 1, 2, 1, 2, ...</td>\n",
       "    </tr>\n",
       "    <tr>\n",
       "      <th>29216</th>\n",
       "      <td>italian</td>\n",
       "      <td>eggs warm water pepper dried basil unsalted bu...</td>\n",
       "      <td>43</td>\n",
       "      <td>[1, 2, 1, 2, 2, 2, 2, 1, 2, 2, 2, 1, 2, 2, 1, ...</td>\n",
       "    </tr>\n",
       "  </tbody>\n",
       "</table>\n",
       "</div>"
      ],
      "text/plain": [
       "         cuisine                                        ingredients  \\\n",
       "id                                                                    \n",
       "49282    mexican  condensed cream of chicken soup pepper refried...   \n",
       "3885     italian  fettucine fresh marjoram minced garlic olive o...   \n",
       "2253      indian  white vinegar sparkling lemonade coconut sugar...   \n",
       "13049    mexican  vanilla ice cream lime garlic powder zucchini ...   \n",
       "13430  brazilian  marshmallows fresh corn cheddar cheese shredde...   \n",
       "29216    italian  eggs warm water pepper dried basil unsalted bu...   \n",
       "\n",
       "       ingredients_count                             ingredients_word_count  \n",
       "id                                                                           \n",
       "49282                 49  [5, 1, 2, 4, 2, 5, 1, 3, 3, 2, 2, 1, 2, 2, 2, ...  \n",
       "3885                  65  [1, 2, 2, 2, 2, 2, 2, 2, 2, 3, 3, 1, 2, 1, 3, ...  \n",
       "2253                  49  [2, 2, 2, 1, 2, 2, 2, 2, 2, 2, 3, 1, 1, 1, 1, ...  \n",
       "13049                 52  [3, 1, 2, 1, 1, 2, 3, 1, 2, 2, 3, 2, 1, 1, 2, ...  \n",
       "13430                 59  [1, 2, 2, 2, 1, 1, 2, 2, 2, 2, 2, 1, 2, 1, 2, ...  \n",
       "29216                 43  [1, 2, 1, 2, 2, 2, 2, 1, 2, 2, 2, 1, 2, 2, 1, ...  "
      ]
     },
     "execution_count": 7,
     "metadata": {},
     "output_type": "execute_result"
    }
   ],
   "source": [
    "train[train.ingredients_count > 40]"
   ]
  },
  {
   "cell_type": "markdown",
   "metadata": {},
   "source": [
    "# explore some ingredients data"
   ]
  },
  {
   "cell_type": "code",
   "execution_count": 8,
   "metadata": {},
   "outputs": [
    {
     "data": {
      "text/plain": [
       "'romaine lettuce black olives grape tomatoes garlic pepper purple onion seasoning garbanzo beans feta cheese crumbles plain flour ground pepper salt tomatoes ground black pepper thyme eggs green tomatoes yellow corn meal milk vegetable oil eggs pepper salt mayonaise cooking oil green chilies grilled '"
      ]
     },
     "execution_count": 8,
     "metadata": {},
     "output_type": "execute_result"
    }
   ],
   "source": [
    "all_ingredients = ' '.join([ings for i, ings in train.ingredients.iteritems()])\n",
    "\n",
    "all_ingredients[:300]"
   ]
  },
  {
   "cell_type": "code",
   "execution_count": 9,
   "metadata": {},
   "outputs": [
    {
     "data": {
      "text/plain": [
       "{' ',\n",
       " '!',\n",
       " '%',\n",
       " '&',\n",
       " \"'\",\n",
       " '(',\n",
       " ')',\n",
       " ',',\n",
       " '-',\n",
       " '.',\n",
       " '/',\n",
       " '0',\n",
       " '1',\n",
       " '2',\n",
       " '3',\n",
       " '4',\n",
       " '5',\n",
       " '7',\n",
       " '8',\n",
       " '9',\n",
       " 'inch',\n",
       " 'lb',\n",
       " 'ounc',\n",
       " 'oz',\n",
       " 'pound',\n",
       " 'to',\n",
       " '®',\n",
       " '€',\n",
       " '™'}"
      ]
     },
     "execution_count": 9,
     "metadata": {},
     "output_type": "execute_result"
    }
   ],
   "source": [
    "set(re.findall(r'\\s*(oz|ounc|ounce|pound|lb|inch|inches|kg|to|\\d|[^\\w])\\s*[^a-z]', all_ingredients))"
   ]
  },
  {
   "cell_type": "code",
   "execution_count": 10,
   "metadata": {},
   "outputs": [
    {
     "data": {
      "text/plain": [
       "{'!', '%', '&', \"'\", '(', ')', ',', '-', '.', '/', '®', '’', '€', '™'}"
      ]
     },
     "execution_count": 10,
     "metadata": {},
     "output_type": "execute_result"
    }
   ],
   "source": [
    "set(re.findall(r'[^\\w\\s]', all_ingredients))"
   ]
  },
  {
   "cell_type": "code",
   "execution_count": 11,
   "metadata": {},
   "outputs": [
    {
     "data": {
      "text/plain": [
       "{'0',\n",
       " '1',\n",
       " '2',\n",
       " '3',\n",
       " '4',\n",
       " '5',\n",
       " '6',\n",
       " '7',\n",
       " '8',\n",
       " '9',\n",
       " 'â',\n",
       " 'ç',\n",
       " 'è',\n",
       " 'é',\n",
       " 'í',\n",
       " 'î',\n",
       " 'ú'}"
      ]
     },
     "execution_count": 11,
     "metadata": {},
     "output_type": "execute_result"
    }
   ],
   "source": [
    "set(re.findall(r'[^A-Za-z\\s]', all_ingredients)) - set(re.findall(r'[^\\w\\s]', all_ingredients))"
   ]
  },
  {
   "cell_type": "code",
   "execution_count": 12,
   "metadata": {},
   "outputs": [
    {
     "data": {
      "text/plain": [
       "['10 oz',\n",
       " 'style 4 cheese',\n",
       " 'style 4 cheese',\n",
       " 'style 4 cheese',\n",
       " 'style 4 cheese',\n",
       " 'Greek 100 blackberry',\n",
       " 'sodium 95',\n",
       " 'syrup 7 Up',\n",
       " 'onions 40',\n",
       " 'crust 40',\n",
       " 'sauc 8 ounc',\n",
       " 'parsley 25',\n",
       " 'Shredded 4 Cheese',\n",
       " 'sodium 96',\n",
       " 'sauce 33',\n",
       " 'salt 95',\n",
       " '15 oz',\n",
       " '10 oz',\n",
       " 'basil 33',\n",
       " 'onions 40',\n",
       " 'Bengali 5 Spice',\n",
       " '15 oz',\n",
       " 'style 4 cheese',\n",
       " 'milk 40',\n",
       " 'Bengali 5 Spice',\n",
       " 'Bengali 5 Spice',\n",
       " '15 oz',\n",
       " '14 oz',\n",
       " '10 oz',\n",
       " 'Tipo 00 flour',\n",
       " '14 oz',\n",
       " 'cheese 40',\n",
       " 'onions 33',\n",
       " 'asparagus 33',\n",
       " 'juice 40',\n",
       " 'cheese 25',\n",
       " 'v 8 juice',\n",
       " 'v8 comino',\n",
       " '10 oz',\n",
       " 'butter 40',\n",
       " 'V8 Juice',\n",
       " 'extract 7 Up',\n",
       " 'salt 95',\n",
       " 'pepper 33',\n",
       " 'licor 43 ice',\n",
       " 'sauce 40',\n",
       " 'leaves 33',\n",
       " 'onion 40',\n",
       " 'rice 25',\n",
       " 'Shredded 4 Cheese',\n",
       " 'pepper 2 1',\n",
       " 'to 3 lb',\n",
       " 'sugar 7 Up',\n",
       " 'tomatoes 40',\n",
       " 'Bengali 5 Spice',\n",
       " 'style 4 cheese',\n",
       " 'vinegar 7 Up',\n",
       " 'salt 2 1',\n",
       " 'to 3 lb',\n",
       " 'onions 40',\n",
       " '10 oz',\n",
       " 'style 4 cheese',\n",
       " 'cheese 40',\n",
       " 'v8 salt',\n",
       " 'kernels 95',\n",
       " 'style 4 cheese',\n",
       " 'style 4 cheese']"
      ]
     },
     "execution_count": 12,
     "metadata": {},
     "output_type": "execute_result"
    }
   ],
   "source": [
    "re.findall(r'\\w+\\s?\\d+\\s?\\w+', all_ingredients)"
   ]
  },
  {
   "cell_type": "code",
   "execution_count": 13,
   "metadata": {},
   "outputs": [
    {
     "name": "stdout",
     "output_type": "stream",
     "text": [
      "11\n",
      "2.0\n",
      "1.8854256946167263\n",
      "0.6879890785250199\n",
      "1\n"
     ]
    }
   ],
   "source": [
    "print(np.max(train.ingredients_word_count.apply(lambda a: np.max(a))))\n",
    "print(np.median(train.ingredients_word_count.apply(lambda a: np.median(a))))\n",
    "print(np.mean(train.ingredients_word_count.apply(lambda a: np.mean(a))))\n",
    "print(np.mean(train.ingredients_word_count.apply(lambda a: np.std(a))))\n",
    "print(np.min(train.ingredients_word_count.apply(lambda a: np.min(a))))"
   ]
  },
  {
   "cell_type": "code",
   "execution_count": null,
   "metadata": {},
   "outputs": [],
   "source": []
  },
  {
   "cell_type": "code",
   "execution_count": null,
   "metadata": {},
   "outputs": [],
   "source": []
  },
  {
   "cell_type": "code",
   "execution_count": null,
   "metadata": {},
   "outputs": [],
   "source": []
  },
  {
   "cell_type": "code",
   "execution_count": null,
   "metadata": {},
   "outputs": [],
   "source": []
  },
  {
   "cell_type": "code",
   "execution_count": 14,
   "metadata": {},
   "outputs": [],
   "source": [
    "from sklearn.feature_extraction.text import TfidfVectorizer, CountVectorizer\n",
    "from sklearn.model_selection import train_test_split, GridSearchCV\n",
    "from sklearn.pipeline import Pipeline, FeatureUnion, make_pipeline\n",
    "from sklearn.preprocessing import Imputer, StandardScaler, RobustScaler\n",
    "import xgboost as xgb\n",
    "from sklearn.svm import SVC, LinearSVC\n",
    "from sklearn.model_selection import RepeatedStratifiedKFold, StratifiedKFold\n",
    "from sklearn.linear_model import LogisticRegression\n",
    "from sklearn import metrics\n",
    "from sklearn.multiclass import OneVsRestClassifier\n",
    "import datetime\n",
    "from sklearn.ensemble import RandomForestClassifier, GradientBoostingClassifier\n",
    "import os\n",
    "import nltk"
   ]
  },
  {
   "cell_type": "code",
   "execution_count": 15,
   "metadata": {},
   "outputs": [],
   "source": [
    "import multiprocessing\n",
    "def model_run(model, X_train, X_test, y_train, y_test):\n",
    "    model.fit(X_train, y_train)\n",
    "    train_pred = model.predict(X_train) \n",
    "    test_pred = model.predict(X_test)\n",
    "\n",
    "    train_score = metrics.accuracy_score(y_train, train_pred)\n",
    "    test_score = metrics.accuracy_score(y_test, test_pred)\n",
    "\n",
    "    return train_score, test_score\n",
    "\n",
    "def test_on_train(model, X, y):\n",
    "    input_to_multi = []\n",
    "    start = datetime.datetime.now()\n",
    "#     for train_index, test_index in RepeatedStratifiedKFold(n_splits=5, n_repeats=4, random_state=123).split(X, y):\n",
    "    for train_index, test_index in StratifiedKFold(n_splits=5,random_state=123).split(X, y):\n",
    "        X_train, X_test = X.iloc[train_index], X.iloc[test_index]\n",
    "        y_train, y_test = y.iloc[train_index], y.iloc[test_index]\n",
    "\n",
    "        input_to_multi.append([model, X_train, X_test, y_train, y_test])\n",
    "\n",
    "    with multiprocessing.Pool() as p:\n",
    "        KFold_results = p.starmap(model_run, input_to_multi)\n",
    "\n",
    "\n",
    "    print(datetime.datetime.now() - start)\n",
    "    return pd.DataFrame(KFold_results,\n",
    "                        columns=['train_score', 'test_score']).mean(axis=0)"
   ]
  },
  {
   "cell_type": "code",
   "execution_count": 16,
   "metadata": {},
   "outputs": [
    {
     "name": "stdout",
     "output_type": "stream",
     "text": [
      "[nltk_data] Downloading package stopwords to /home/ariel/nltk_data...\n",
      "[nltk_data]   Package stopwords is already up-to-date!\n"
     ]
    }
   ],
   "source": [
    "from nltk.stem.snowball import SnowballStemmer\n",
    "from nltk import tokenize\n",
    "from nltk.corpus import stopwords\n",
    "import nltk\n",
    "nltk.download('stopwords')\n",
    "    \n",
    "class StemmedCountVectorizer(TfidfVectorizer):\n",
    "    def build_analyzer(self):\n",
    "        analyzer = super(StemmedCountVectorizer, self).build_analyzer()\n",
    "        stemmer = SnowballStemmer(\"english\")\n",
    "        stops = set(stopwords.words(\"english\"))\n",
    "        return lambda doc: ([stemmer.stem(w) for w in analyzer(re.sub(\"[^\\w\\s]\", \"\", doc)) if w not in stops])\n",
    "    \n",
    "# out_index = train[train.ingredients_count > 40].index\n",
    "X = train.ingredients #.drop(out_index)\n",
    "y = train.cuisine #.drop(out_index)\n",
    "\n",
    "model = Pipeline([\n",
    "#     ('bag_of_words', CountVectorizer(tokenizer=text_process(), stop_words='english')),\n",
    "    ('bag_of_words', StemmedCountVectorizer(ngram_range=(1, 2), stop_words='english')),\n",
    "\n",
    "#     ('tfidf', TfidfVectorizer(stop_words='english')),\n",
    "    ('logreg', LogisticRegression(penalty='l1', C=10, solver='saga', max_iter=1000))\n",
    "#     ('logreg', OneVsRestClassifier(LogisticRegression(penalty='l2',C=10, max_iter=1000)))\n",
    "#     ('forest', RandomForestClassifier(n_estimators=10, criterion='gini', max_depth=None, min_samples_split=2,\n",
    "#                                       min_samples_leaf=1, min_weight_fraction_leaf=0.0, max_features='auto',\n",
    "#                                       max_leaf_nodes=None, min_impurity_decrease=0.0, min_impurity_split=None,\n",
    "#                                       bootstrap=True, oob_score=False, n_jobs=1, random_state=None, verbose=0,\n",
    "#                                       warm_start=False, class_weight=None))\n",
    "#     ('svm', OneVsRestClassifier(SVC(C=100, coef0=1)))\n",
    "#     ('boost', GradientBoostingClassifier()) #best scores\n",
    "#     ('xgb', xgb.XGBClassifier(max_depth=6, learning_rate=0.01, n_estimators=100,\n",
    "#                               objective='multi:softmax', booster='gbtree', n_jobs=-1))\n",
    "])"
   ]
  },
  {
   "cell_type": "code",
   "execution_count": null,
   "metadata": {},
   "outputs": [
    {
     "name": "stdout",
     "output_type": "stream",
     "text": [
      "2018-09-18 17:41:04.608945\n"
     ]
    },
    {
     "name": "stderr",
     "output_type": "stream",
     "text": [
      "/home/ariel/venv/lib/python3.6/site-packages/sklearn/linear_model/sag.py:326: ConvergenceWarning: The max_iter was reached which means the coef_ did not converge\n",
      "  \"the coef_ did not converge\", ConvergenceWarning)\n"
     ]
    }
   ],
   "source": [
    "np.random.seed(123)\n",
    "print(datetime.datetime.now())\n",
    "# test_on_train(model, X, y)\n",
    "# x_train, x_test, y_train, y_test = train_test_split(X, pd.get_dummies(y), stratify= pd.get_dummies(y))\n",
    "x_train, x_test, y_train, y_test = train_test_split(X, y, stratify= y)\n",
    "model.fit(x_train, y_train)\n",
    "train_pred = model.predict(x_train) \n",
    "test_pred = model.predict(x_test)\n",
    "\n",
    "print(metrics.accuracy_score(y_train, train_pred))\n",
    "print(metrics.accuracy_score(y_test, test_pred))\n",
    "\n",
    "\n",
    "print(datetime.datetime.now())"
   ]
  },
  {
   "cell_type": "code",
   "execution_count": null,
   "metadata": {},
   "outputs": [],
   "source": [
    "for i in [30, 35, 40, 100]:\n",
    "    print(i)\n",
    "    out_index = train[train.ingredients_count > i].index\n",
    "    X = train.ingredients.drop(out_index)\n",
    "    y = train.cuisine.drop(out_index)\n",
    "    print(test_on_train(model, X, y))"
   ]
  },
  {
   "cell_type": "code",
   "execution_count": null,
   "metadata": {},
   "outputs": [],
   "source": [
    "# 0.9837412001340932\n",
    "# 0.791331456154465"
   ]
  },
  {
   "cell_type": "code",
   "execution_count": null,
   "metadata": {},
   "outputs": [],
   "source": [
    "params = [\n",
    "#     {'logreg__estimator__C':[0.001, 0.01, 0.1, 1, 10, 100],\n",
    "#      'logreg__estimator__penalty':['l2'],\n",
    "#      'logreg__estimator__solver':['newton-cg', 'lbfgs',  'sag']\n",
    "#     },\n",
    "    {'bag_of_words__ngram_range':[(1,1), (1,2), (1,3)],\n",
    "     'bag_of_words__binary':[True, False]\n",
    "#     'logreg__estimator__C':[0.1, 0.5, 1, 5, 10],\n",
    "#      'logreg__estimator__class_weight':[None, 'weighted'],\n",
    "#      'logreg__estimator__penalty':['l2', 'l1'],\n",
    "     'logreg__C':[0.1, 0.5, 1, 5, 10],\n",
    "     'logreg__class_weight':[None, 'weighted'],\n",
    "     'logreg__penalty':['l2', 'l1'],\n",
    "    }\n",
    "         ]\n",
    "GCV = GridSearchCV(model, params, cv=5, n_jobs=4, verbose=2)\n",
    "GCV.fit(X, pd.get_dummies(y))"
   ]
  },
  {
   "cell_type": "code",
   "execution_count": null,
   "metadata": {},
   "outputs": [],
   "source": [
    "print(GCV.best_score_)\n",
    "GCV.best_params_"
   ]
  },
  {
   "cell_type": "markdown",
   "metadata": {},
   "source": [
    "### count the number of words in each ingridiant for the n_grams //Done\n",
    "# Try to find outliers in num of ingridiants\n",
    "# try plying with the CountVectorizer/TFIDF params to drop outlier ingridiants\n",
    "# drop corr features\n",
    "# Param CV search\n",
    "### Toknizer + stemmer //Done\n",
    "# Word2Vec: http://nadbordrozd.github.io/blog/2016/05/20/text-classification-with-word2vec/"
   ]
  },
  {
   "cell_type": "markdown",
   "metadata": {},
   "source": [
    "# Find corr features in text Vectorizer"
   ]
  },
  {
   "cell_type": "code",
   "execution_count": null,
   "metadata": {},
   "outputs": [],
   "source": [
    "tfidf_transformed_data = StemmedCountVectorizer(stop_words='english').fit_transform(X)"
   ]
  },
  {
   "cell_type": "code",
   "execution_count": null,
   "metadata": {},
   "outputs": [],
   "source": [
    "corr = pd.DataFrame(tfidf_transformed_data.toarray()).corr()\n",
    "\n",
    "mask = np.zeros_like(corr, dtype=np.bool)\n",
    "mask[np.triu_indices_from(mask)] = True\n",
    "\n",
    "f, ax = plt.subplots(figsize=(11, 9))\n",
    "\n",
    "# Generate a custom diverging colormap\n",
    "cmap = sns.diverging_palette(220, 10, as_cmap=True)\n",
    "\n",
    "# Draw the heatmap with the mask and correct aspect ratio\n",
    "sns.heatmap(corr, mask=mask, cmap=cmap, vmax=.3, center=0,\n",
    "            square=True, linewidths=.5, cbar_kws={\"shrink\": .5})"
   ]
  },
  {
   "cell_type": "code",
   "execution_count": null,
   "metadata": {},
   "outputs": [],
   "source": [
    "tfidf_transformed_data"
   ]
  },
  {
   "cell_type": "code",
   "execution_count": null,
   "metadata": {},
   "outputs": [],
   "source": [
    "def log_transform_skewed(data, skew_value):\n",
    "    X = data.copy()\n",
    "    numeric_feats = X.select_dtypes(exclude='object').columns\n",
    "\n",
    "    skewed_feats = X[numeric_feats].apply(stats.skew) #compute skewness\n",
    "    skewed_feats = skewed_feats[skewed_feats > abs(skew_value)]\n",
    "    skewed_feats = skewed_feats.index\n",
    "\n",
    "    X[skewed_feats] = np.log1p(X[skewed_feats])\n",
    "    print(len(skewed_feats.columns))\n",
    "    return X\n",
    "\n"
   ]
  },
  {
   "cell_type": "code",
   "execution_count": null,
   "metadata": {},
   "outputs": [],
   "source": [
    "tfidf_transformer = StemmedCountVectorizer(stop_words='english').fit(X)\n",
    "d = tfidf_transformer.transform(X)\n",
    "cols =tfidf_transformer.get_feature_names()\n",
    "\n",
    "pd.DataFrame(d.toarray(), columns = cols)\n",
    "log_transform_skewed()"
   ]
  }
 ],
 "metadata": {
  "kernelspec": {
   "display_name": "Python 3",
   "language": "python",
   "name": "python3"
  },
  "language_info": {
   "codemirror_mode": {
    "name": "ipython",
    "version": 3
   },
   "file_extension": ".py",
   "mimetype": "text/x-python",
   "name": "python",
   "nbconvert_exporter": "python",
   "pygments_lexer": "ipython3",
   "version": "3.6.3"
  }
 },
 "nbformat": 4,
 "nbformat_minor": 2
}
