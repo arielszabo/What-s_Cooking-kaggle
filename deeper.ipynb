{
 "cells": [
  {
   "cell_type": "code",
   "execution_count": null,
   "metadata": {},
   "outputs": [],
   "source": [
    "import pandas as pd\n",
    "import numpy as np\n",
    "import matplotlib.pyplot as plt\n",
    "import seaborn as sns\n",
    "import os\n",
    "import re\n",
    "%matplotlib inline\n",
    "sns.set()\n",
    "np.random.seed(123)"
   ]
  },
  {
   "cell_type": "code",
   "execution_count": null,
   "metadata": {},
   "outputs": [],
   "source": [
    "def load_n_prep(name):\n",
    "    df = pd.read_json(os.path.join('{}.json'.format(name)))\n",
    "    df.set_index('id', inplace=True)\n",
    "    df['ingredients_count'] = df['ingredients'].apply(lambda x: len(x))\n",
    "    df['ingredients_word_count'] = df['ingredients'].apply(lambda ingredients: [len(i.split()) for i in ingredients])\n",
    "    df['ingredients'] = df['ingredients'].apply(lambda ingredients: ' '.join(ingredients)) #ingredients of two words can get lost\n",
    "    return df"
   ]
  },
  {
   "cell_type": "code",
   "execution_count": null,
   "metadata": {},
   "outputs": [],
   "source": [
    "train = load_n_prep('train')\n",
    "train.head()"
   ]
  },
  {
   "cell_type": "code",
   "execution_count": null,
   "metadata": {},
   "outputs": [],
   "source": [
    "from sklearn.feature_extraction.text import TfidfVectorizer, CountVectorizer\n",
    "from sklearn.model_selection import train_test_split, GridSearchCV\n",
    "from sklearn.pipeline import Pipeline, FeatureUnion, make_pipeline\n",
    "from sklearn.preprocessing import Imputer, StandardScaler, RobustScaler\n",
    "import xgboost as xgb\n",
    "from sklearn.svm import SVC, LinearSVC\n",
    "from sklearn.model_selection import RepeatedStratifiedKFold, StratifiedKFold\n",
    "from sklearn.linear_model import LogisticRegression\n",
    "from sklearn import metrics\n",
    "from sklearn.multiclass import OneVsRestClassifier\n",
    "import datetime\n",
    "from sklearn.ensemble import RandomForestClassifier, GradientBoostingClassifier\n",
    "import os\n",
    "import nltk\n",
    "import gensim"
   ]
  },
  {
   "cell_type": "code",
   "execution_count": null,
   "metadata": {},
   "outputs": [],
   "source": [
    "import multiprocessing\n",
    "def model_run(model, X_train, X_test, y_train, y_test):\n",
    "    model.fit(X_train, y_train)\n",
    "    train_pred = model.predict(X_train) \n",
    "    test_pred = model.predict(X_test)\n",
    "\n",
    "    train_score = metrics.accuracy_score(y_train, train_pred)\n",
    "    test_score = metrics.accuracy_score(y_test, test_pred)\n",
    "\n",
    "    return train_score, test_score\n",
    "\n",
    "def test_on_train(model, X, y):\n",
    "    input_to_multi = []\n",
    "    start = datetime.datetime.now()\n",
    "#     for train_index, test_index in RepeatedStratifiedKFold(n_splits=5, n_repeats=4, random_state=123).split(X, y):\n",
    "    for train_index, test_index in StratifiedKFold(n_splits=5,random_state=123).split(X, y):\n",
    "        X_train, X_test = X.iloc[train_index], X.iloc[test_index]\n",
    "        y_train, y_test = y.iloc[train_index], y.iloc[test_index]\n",
    "\n",
    "        input_to_multi.append([model, X_train, X_test, y_train, y_test])\n",
    "\n",
    "    with multiprocessing.Pool() as p:\n",
    "        KFold_results = p.starmap(model_run, input_to_multi)\n",
    "\n",
    "\n",
    "    print(datetime.datetime.now() - start)\n",
    "    return pd.DataFrame(KFold_results,\n",
    "                        columns=['train_score', 'test_score']).mean(axis=0)"
   ]
  },
  {
   "cell_type": "code",
   "execution_count": null,
   "metadata": {},
   "outputs": [],
   "source": [
    "from nltk.stem.snowball import SnowballStemmer\n",
    "from nltk import tokenize\n",
    "from nltk.corpus import stopwords\n",
    "import nltk\n",
    "nltk.download('stopwords')\n",
    "    \n",
    "class StemmedCountVectorizer(TfidfVectorizer):\n",
    "    def build_analyzer(self):\n",
    "        analyzer = super(StemmedCountVectorizer, self).build_analyzer()\n",
    "        stemmer = SnowballStemmer(\"english\")\n",
    "        stops = set(stopwords.words(\"english\"))\n",
    "        return lambda doc: ([stemmer.stem(w) for w in analyzer(re.sub(\"[^\\w\\s]\", \"\", doc)) if w not in stops])\n",
    "    \n",
    "# out_index = train[train.ingredients_count > 40].index\n",
    "X = train.ingredients #.drop(out_index)\n",
    "y = train.cuisine #.drop(out_index)\n",
    "\n",
    "model = Pipeline([\n",
    "#     ('bag_of_words', CountVectorizer(tokenizer=text_process(), stop_words='english')),\n",
    "    ('bag_of_words', StemmedCountVectorizer(ngram_range=(1, 2), stop_words='english')),\n",
    "\n",
    "#     ('tfidf', TfidfVectorizer(stop_words='english')),\n",
    "    ('logreg', LogisticRegression(penalty='l1',C=10,solver='saga', max_iter=10000))\n",
    "#     ('logreg', OneVsRestClassifier(LogisticRegression(penalty='l2',C=10, max_iter=1000)))\n",
    "#     ('forest', RandomForestClassifier(n_estimators=10, criterion='gini', max_depth=None, min_samples_split=2,\n",
    "#                                       min_samples_leaf=1, min_weight_fraction_leaf=0.0, max_features='auto',\n",
    "#                                       max_leaf_nodes=None, min_impurity_decrease=0.0, min_impurity_split=None,\n",
    "#                                       bootstrap=True, oob_score=False, n_jobs=1, random_state=None, verbose=0,\n",
    "#                                       warm_start=False, class_weight=None))\n",
    "#     ('svm', OneVsRestClassifier(SVC(C=100, coef0=1)))\n",
    "#     ('boost', GradientBoostingClassifier()) #best scores\n",
    "#     ('xgb', xgb.XGBClassifier(max_depth=6, learning_rate=0.01, n_estimators=100,\n",
    "#                               objective='multi:softmax', booster='gbtree', n_jobs=-1))\n",
    "])"
   ]
  },
  {
   "cell_type": "code",
   "execution_count": null,
   "metadata": {},
   "outputs": [],
   "source": [
    "np.random.seed(123)\n",
    "print(datetime.datetime.now())\n",
    "# test_on_train(model, X, y)\n",
    "# x_train, x_test, y_train, y_test = train_test_split(X, pd.get_dummies(y), stratify= pd.get_dummies(y))\n",
    "x_train, x_test, y_train, y_test = train_test_split(X, y, stratify= y)\n",
    "model.fit(x_train, y_train)\n",
    "train_pred = model.predict(x_train) \n",
    "test_pred = model.predict(x_test)\n",
    "\n",
    "print(metrics.accuracy_score(y_train, train_pred))\n",
    "print(metrics.accuracy_score(y_test, test_pred))\n",
    "\n",
    "\n",
    "print(datetime.datetime.now())"
   ]
  },
  {
   "cell_type": "markdown",
   "metadata": {},
   "source": [
    "### count the number of words in each ingridiant for the n_grams //Done\n",
    "# Try to find outliers in num of ingridiants\n",
    "# try plying with the CountVectorizer/TFIDF params to drop outlier ingridiants\n",
    "# drop corr features\n",
    "# Param CV search\n",
    "### Toknizer + stemmer //Done\n",
    "# Word2Vec: http://nadbordrozd.github.io/blog/2016/05/20/text-classification-with-word2vec/"
   ]
  }
 ],
 "metadata": {
  "kernelspec": {
   "display_name": "Python 3",
   "language": "python",
   "name": "python3"
  },
  "language_info": {
   "codemirror_mode": {
    "name": "ipython",
    "version": 3
   },
   "file_extension": ".py",
   "mimetype": "text/x-python",
   "name": "python",
   "nbconvert_exporter": "python",
   "pygments_lexer": "ipython3",
   "version": "3.6.3"
  }
 },
 "nbformat": 4,
 "nbformat_minor": 2
}
